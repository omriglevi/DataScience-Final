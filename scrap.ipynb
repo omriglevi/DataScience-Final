{
 "cells": [
  {
   "cell_type": "code",
   "execution_count": 738,
   "metadata": {},
   "outputs": [],
   "source": [
    "from bs4 import BeautifulSoup\n",
    "import pandas as pd\n",
    "import os\n",
    "import re\n",
    "import requests\n",
    "import logging\n",
    "import threading\n",
    "import math\n",
    "import random\n",
    "import seaborn as sns\n",
    "from matplotlib import pyplot as plt"
   ]
  },
  {
   "cell_type": "code",
   "execution_count": 739,
   "metadata": {},
   "outputs": [],
   "source": [
    "ufc_url='./data_ufc.html'\n",
    "bellator_url='./data_bellator.html'\n",
    "\n",
    "\n",
    "with open(ufc_url) as fp:\n",
    "    soup = BeautifulSoup(fp, 'html.parser')\n",
    "with open(bellator_url) as fp2:\n",
    "    soup2=BeautifulSoup(fp2,'html.parser')\n",
    "\n",
    "alltables=soup.findAll(\"table\")\n",
    "alltables2=soup2.findAll(\"table\")\n",
    "\n",
    "\n"
   ]
  },
  {
   "cell_type": "code",
   "execution_count": null,
   "metadata": {},
   "outputs": [],
   "source": [
    "\n"
   ]
  },
  {
   "cell_type": "code",
   "execution_count": 740,
   "metadata": {},
   "outputs": [],
   "source": [
    "def scrapeTable(tables):\n",
    "    athlets=[]\n",
    "    for t in tables:\n",
    "        rows=t.findAll(\"tr\")\n",
    "        del rows[0]\n",
    "        for r in rows:\n",
    "            \n",
    "            cells=r.findAll(\"td\")\n",
    "            link=\"\"\n",
    "            name=cells[1].text\n",
    "            name=name.strip()\n",
    "            stats=cells[7].text\n",
    "            if cells[1].find(\"a\"):\n",
    "                link=cells[1].find(\"a\")[\"href\"]\n",
    "            name_regex='(\\w*)\\s*(\\w*)\\s*(\\w*)\\s*(\\w*)'\n",
    "            wins_loses_regex='(\\d*)(\\W*)(\\d*)(\\W*)'\n",
    "            regex_res=re.search(name_regex,name)\n",
    "            name=regex_res.group(1)+\" \"+regex_res.group(2)+\" \"+regex_res.group(3)+\" \"+regex_res.group(4)+\" \"\n",
    "            regex_res2=re.search(wins_loses_regex,stats)\n",
    "            wins=regex_res2.group(1)\n",
    "            loses=regex_res2.group(3)\n",
    "            country=cells[0]\n",
    "            pattern='Flag of (\\w*)\\s*(\\w*).(.*)'\n",
    "            country=country.find(\"img\")[\"alt\"]\n",
    "            reg=re.search(pattern,country)\n",
    "            if   hasattr(reg ,'group'):\n",
    "                    country=reg.group(1)+\" \"+reg.group(2)\n",
    "            # print (country)\n",
    "            # print(regex_res2)\n",
    "            # print(wins)\n",
    "            # print(country)\n",
    "            # print(name)\n",
    "            # print(link)\n",
    "            # print(stats)\n",
    "            athlet=[name.strip(),country, wins , loses]\n",
    "            athlets.append(athlet)\n",
    "            # print(wins , loses)\n",
    "    return athlets\n",
    "\n",
    "\n"
   ]
  },
  {
   "cell_type": "code",
   "execution_count": 741,
   "metadata": {},
   "outputs": [],
   "source": [
    "def getRandWinsLoses(wins,loses):\n",
    "    decision\t, wins_By_KO,loses_by_ko ,wins_by_submission ,loses_by_submission = 0,0,0,0,0\n",
    "\n",
    "    \n",
    "    if float(loses)>1:\n",
    "       loses_by_ko=random.randrange(float(loses))\n",
    "       if float(loses)-float(loses_by_ko) > 0 : \n",
    "            loses_by_submission=float(loses)-float(loses_by_ko) \n",
    "    if float(wins)>1:\n",
    "        wins_By_KO=random.randrange(float(wins))\n",
    "        if float(wins)-float(wins_By_KO)>0:\n",
    "             wins_by_submission=float(wins)-float(wins_By_KO)\n",
    "\n",
    "    \n",
    "    return decision\t, wins_By_KO,loses_by_ko ,wins_by_submission ,loses_by_submission"
   ]
  },
  {
   "cell_type": "code",
   "execution_count": 742,
   "metadata": {},
   "outputs": [
    {
     "name": "stderr",
     "output_type": "stream",
     "text": [
      "/var/folders/h9/m6p5vy652xqfyg00z9hcp_x00000gn/T/ipykernel_22406/3041774459.py:6: DeprecationWarning: non-integer arguments to randrange() have been deprecated since Python 3.10 and will be removed in a subsequent version\n",
      "  loses_by_ko=random.randrange(float(loses))\n",
      "/var/folders/h9/m6p5vy652xqfyg00z9hcp_x00000gn/T/ipykernel_22406/3041774459.py:10: DeprecationWarning: non-integer arguments to randrange() have been deprecated since Python 3.10 and will be removed in a subsequent version\n",
      "  wins_By_KO=random.randrange(float(wins))\n"
     ]
    }
   ],
   "source": [
    "ath=scrapeTable(alltables)\n",
    "ath2=scrapeTable(alltables2)\n",
    "\n",
    "for a1 in ath:\n",
    "    decision, wins_By_KO,loses_by_ko ,wins_by_submission ,loses_by_submission= getRandWinsLoses(a1[2],a1[3])\n",
    "    a1.append(decision)\n",
    "    a1.append(wins_By_KO)\n",
    "    a1.append(loses_by_ko)\n",
    "    a1.append(wins_by_submission)\n",
    "    a1.append(loses_by_submission)\n",
    "for a1 in ath2:\n",
    "    decision, wins_By_KO,loses_by_ko ,wins_by_submission ,loses_by_submission= getRandWinsLoses(a1[2],a1[3])\n",
    "    a1.append(decision)\n",
    "    a1.append(wins_By_KO)\n",
    "    a1.append(loses_by_ko)\n",
    "    a1.append(wins_by_submission)\n",
    "    a1.append(loses_by_submission)\n",
    "    \n",
    "df1=pd.DataFrame(ath,columns=['Full_Name', 'Country', 'Wins' , 'Loses' ,'Decision' , 'Wins_By_KO' , 'Loses_By_KO', 'Wins_By_Submission' , 'Loses_By_Submission'])\n",
    "df2=pd.DataFrame(ath2,columns=['Full_Name', 'Country', 'Wins' , 'Loses' ,'Decision' , 'Wins_By_KO' , 'Loses_By_KO', 'Wins_By_Submission' , 'Loses_By_Submission' ]) \n",
    "\n",
    "\n",
    "###### add champ col\n",
    "\n",
    "\n",
    "df1.to_csv('./scrapedData/ufc_athlets.csv' , index=False)  \n",
    "df2.to_csv('./scrapedData/bellator_athlets.csv' , index=False)  \n",
    "df1.to_csv('./cleanedData/ufc_athlets.csv' , index=False)  \n",
    "df2.to_csv('./cleanedData/bellator_athlets.csv' , index=False)  \n",
    "    \n",
    "\n",
    "\n",
    "# fill decisi\n",
    "#fill winsBySub etc ..."
   ]
  },
  {
   "cell_type": "markdown",
   "metadata": {},
   "source": []
  }
 ],
 "metadata": {
  "interpreter": {
   "hash": "aee8b7b246df8f9039afb4144a1f6fd8d2ca17a180786b69acc140d282b71a49"
  },
  "kernelspec": {
   "display_name": "Python 3.10.1 64-bit",
   "language": "python",
   "name": "python3"
  },
  "language_info": {
   "codemirror_mode": {
    "name": "ipython",
    "version": 3
   },
   "file_extension": ".py",
   "mimetype": "text/x-python",
   "name": "python",
   "nbconvert_exporter": "python",
   "pygments_lexer": "ipython3",
   "version": "3.10.1"
  },
  "orig_nbformat": 4
 },
 "nbformat": 4,
 "nbformat_minor": 2
}
