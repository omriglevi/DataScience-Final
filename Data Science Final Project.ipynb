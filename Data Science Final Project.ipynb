{
 "cells": [
  {
   "cell_type": "code",
   "execution_count": 264,
   "metadata": {},
   "outputs": [],
   "source": [
    "from bs4 import BeautifulSoup\n",
    "import pandas as pd\n",
    "import os\n",
    "import re\n",
    "import requests\n",
    "import logging\n",
    "import threading\n",
    "import math\n",
    "import seaborn as sns\n",
    "from matplotlib import pyplot as plt\n",
    "import numpy as np\n",
    "from sklearn import linear_model\n",
    "from sklearn import metrics\n",
    "plt.rcParams['figure.figsize'] = (10, 6)\n",
    "from mpl_toolkits.mplot3d import Axes3D\n",
    "from matplotlib import cm\n",
    "\n"
   ]
  },
  {
   "cell_type": "markdown",
   "metadata": {},
   "source": [
    "<h1 style=\"color:yellow;\"> Scraping our data</h1>\n",
    "<h3> First thing we need to do to start the project would be to gather our data</h3>\n",
    "<p> We would like to find a reliable website of a very known fighting organization , this way we can trust the data since it is an official fighting organization </p>\n",
    "<p>We are going to scrape ESPN official website for getting our data </p>\n",
    "<a href=\"http://www.espn.com/mma/fighters\">  Link to ESPN's website where we can observe the fighter list </a>"
   ]
  },
  {
   "cell_type": "code",
   "execution_count": 265,
   "metadata": {},
   "outputs": [],
   "source": [
    "user_agent = {'User-agent': 'Mozilla/5.0'}"
   ]
  },
  {
   "cell_type": "markdown",
   "metadata": {},
   "source": [
    "<h3> First we would like to have a list with links for all pages of of the fither list </h3>\n",
    "<h3> first page will contain fithers with name started with letter A</h3>\n",
    "<h3> first page will contain fithers with name started with letter Z</h3>"
   ]
  },
  {
   "cell_type": "code",
   "execution_count": 266,
   "metadata": {},
   "outputs": [],
   "source": [
    "url1=\"http://www.espn.com/mma/fighters\"\n",
    "response1 = requests.get(url1,headers=user_agent)\n",
    "pagesAToZ=[]\n",
    "# we would like to add the first page (the page that contains fighters with letter A)\n",
    "pagesAToZ.append(url1)\n",
    "soup1 = BeautifulSoup(response1.content, \"html.parser\")\n",
    "div_t=soup1.find(\"div\",attrs={\"class\":\"mod-content\"})\n",
    "hred_t=div_t.findAll(\"a\")\n",
    "for t in hred_t :\n",
    "    pagesAToZ.append(url1+t['href'])\n"
   ]
  },
  {
   "cell_type": "markdown",
   "metadata": {},
   "source": [
    "<h3>Let's print the urls so we can make sure everything looks fine </h3>"
   ]
  },
  {
   "cell_type": "code",
   "execution_count": 267,
   "metadata": {},
   "outputs": [
    {
     "name": "stdout",
     "output_type": "stream",
     "text": [
      "['http://www.espn.com/mma/fighters', 'http://www.espn.com/mma/fighters?search=b', 'http://www.espn.com/mma/fighters?search=c', 'http://www.espn.com/mma/fighters?search=d', 'http://www.espn.com/mma/fighters?search=e', 'http://www.espn.com/mma/fighters?search=f', 'http://www.espn.com/mma/fighters?search=g', 'http://www.espn.com/mma/fighters?search=h', 'http://www.espn.com/mma/fighters?search=i', 'http://www.espn.com/mma/fighters?search=j', 'http://www.espn.com/mma/fighters?search=k', 'http://www.espn.com/mma/fighters?search=l', 'http://www.espn.com/mma/fighters?search=m', 'http://www.espn.com/mma/fighters?search=n', 'http://www.espn.com/mma/fighters?search=o', 'http://www.espn.com/mma/fighters?search=p', 'http://www.espn.com/mma/fighters?search=q', 'http://www.espn.com/mma/fighters?search=r', 'http://www.espn.com/mma/fighters?search=s', 'http://www.espn.com/mma/fighters?search=t', 'http://www.espn.com/mma/fighters?search=u', 'http://www.espn.com/mma/fighters?search=v', 'http://www.espn.com/mma/fighters?search=w', 'http://www.espn.com/mma/fighters?search=x', 'http://www.espn.com/mma/fighters?search=y', 'http://www.espn.com/mma/fighters?search=z']\n"
     ]
    }
   ],
   "source": [
    "print(pagesAToZ)"
   ]
  },
  {
   "cell_type": "markdown",
   "metadata": {},
   "source": [
    "<h3> Another function we would like to writw is a functions that scrapes the most inner page that contain previews fights stats , we would like to get a path as an argument</h3>"
   ]
  },
  {
   "cell_type": "code",
   "execution_count": 268,
   "metadata": {},
   "outputs": [],
   "source": [
    "def scrapeinnerPageForFightStats(path):\n",
    "    \n",
    "    wins =\"\"\n",
    "    loses =\"\"\n",
    "    decision = \"\"\n",
    "    winByKo = \"\"\n",
    "    loseByKo= \"\"\n",
    "    winbySubmission=\"\"\n",
    "    loseBySubmission=\"\"\n",
    "    page_link='http://www.espn.com'+path\n",
    "   #  print(\"pagelink is\" , page_link )\n",
    "    response= requests.get(page_link)\n",
    "    soup = BeautifulSoup(response.content)\n",
    "    regex_winsLosesDecision = \"W-L-D(\\d)-(\\d)-(\\d)\"\n",
    "    regex_ko=\"\\(T\\)KO(\\d)-(\\d)\"\n",
    "    regex_sub=\"SUB(\\d)-(\\d)\"\n",
    "    ul_t = soup.find(\"ul\", attrs={\"class\":\"StatBlock__Content flex list ph4 pv3 justify-between\"}) \n",
    "    if(ul_t==None):\n",
    "       print(\"No unordered list atrr\")\n",
    "\n",
    "    if( (not hasattr(ul_t,'findAll')) ):\n",
    "      return wins , loses , decision , winByKo , loseByKo, winbySubmission , loseBySubmission\n",
    "\n",
    "   \n",
    "    if( not ul_t.findAll(\"li\") ):\n",
    "      return wins , loses , decision , winByKo , loseByKo, winbySubmission , loseBySubmission\n",
    "        \n",
    "    li_list=ul_t.findAll(\"li\")\n",
    "    for li in li_list:\n",
    "       text=li.text\n",
    "    #    print(text)\n",
    "       winLoseDecStats_regex_res=re.search(regex_winsLosesDecision , text)\n",
    "       koStats_regex_res=re.search(regex_ko , text)\n",
    "       subStats_regex_res=re.search(regex_sub , text)\n",
    "       if(winLoseDecStats_regex_res):\n",
    "           wins=winLoseDecStats_regex_res.group(1)\n",
    "           loses=winLoseDecStats_regex_res.group(2)\n",
    "           decision=winLoseDecStats_regex_res.group(3)\n",
    "        #    print(winLoseDecStats_regex_res)\n",
    "       elif(koStats_regex_res):\n",
    "           winByKo=koStats_regex_res.group(1)\n",
    "           loseByKo=koStats_regex_res.group(2)\n",
    "        #    print(koStats_regex_res)\n",
    "       elif(subStats_regex_res):\n",
    "           winbySubmission=subStats_regex_res.group(1)\n",
    "           loseBySubmission=subStats_regex_res.group(2)\n",
    "        #    print(subStats_regex_res)\n",
    "    logging.info(wins,[wins , loses , decision , winByKo , loseByKo, winbySubmission , loseBySubmission])\n",
    "    print(wins , loses , decision , winByKo , loseByKo, winbySubmission , loseBySubmission)\n",
    "    return wins , loses , decision , winByKo , loseByKo, winbySubmission , loseBySubmission\n"
   ]
  },
  {
   "cell_type": "markdown",
   "metadata": {},
   "source": [
    "<h3> Let's make sure we get the right return params and that the regexes are fine</h3>\n",
    "<p> we will expect three matches and output params ('0', '1', '0', '0', '0', '0', '1') </p>"
   ]
  },
  {
   "cell_type": "code",
   "execution_count": 269,
   "metadata": {},
   "outputs": [],
   "source": [
    "# scrapeinnerPageForFightStats('/mma/fighter/_/id/3043549/niina-aaltonen')"
   ]
  },
  {
   "cell_type": "markdown",
   "metadata": {},
   "source": [
    "<h3> Cool , We have a list of links to each page we want to scrape and the stats from the inner pages! </h3>\n",
    "<h4>Now we would like to build a function for scraping each page  </h4>"
   ]
  },
  {
   "cell_type": "markdown",
   "metadata": {},
   "source": [
    "<p>\n",
    "/The structure of the page containes a long table with two columns . <br>\n",
    "First Column - Name <br>\n",
    "Sec Column - Country <br>\n",
    "\n",
    "the Name is clickable and redirect us to another page with more details of the fighter\n",
    " </p>"
   ]
  },
  {
   "cell_type": "code",
   "execution_count": 270,
   "metadata": {},
   "outputs": [],
   "source": [
    "def getTableRows(page_link):\n",
    "    response= requests.get(page_link)\n",
    "    soup = BeautifulSoup(response.content)\n",
    "    table = soup.find(lambda tag: tag.name=='table') \n",
    "    rows = table.findAll(lambda tag: tag.name=='tr')\n",
    "    # we would like to remove the first two rows bc it doesnt contain any data\n",
    "    del rows[0]\n",
    "    del rows[0]\n",
    "    return rows"
   ]
  },
  {
   "cell_type": "code",
   "execution_count": 271,
   "metadata": {},
   "outputs": [],
   "source": [
    "def runOnSingleDataRowGetNameCountryBio(row):\n",
    "    #currently runs only on the first row\n",
    "        full_name , link_to_bio , country = \"\" , \"\" ,\"\"\n",
    "        cells = row.findAll(lambda tag: tag.name=='td')\n",
    "        if(cells == None or (not cells)):\n",
    "            return \n",
    "        full_name = cells[0].find(\"a\").text\n",
    "        full_name=full_name.split(\", \")\n",
    "        first_name=full_name[0]\n",
    "        last_name=full_name[1]\n",
    "        link_to_bio = cells[0].find(\"a\")[\"href\"]\n",
    "        country=cells[1].text\n",
    "        full_name=first_name+\" \"+last_name \n",
    "        return full_name , link_to_bio ,country\n",
    "\n"
   ]
  },
  {
   "cell_type": "code",
   "execution_count": 272,
   "metadata": {},
   "outputs": [],
   "source": [
    "def scrapeTheWholePage(page_url):\n",
    "    data=[]\n",
    "    rows=getTableRows(page_url)\n",
    "    for row in rows:\n",
    "        full_name  , bio_link , country = runOnSingleDataRowGetNameCountryBio(row)\n",
    "        wins , loses , decision , winByKo , loseByKo, winbySubmission , loseBySubmission =scrapeinnerPageForFightStats(bio_link)\n",
    "        # print(full_name , bio_link , country)\n",
    "        # print(wins , loses , decision , winByKo , loseByKo, winbySubmission , loseBySubmission)\n",
    "        listOfParams=[full_name  , country , wins , loses , decision , winByKo , loseByKo, winbySubmission , loseBySubmission ]\n",
    "        # print(listOfParams)\n",
    "        print(full_name)\n",
    "        logging.info(full_name)\n",
    "        data.append(listOfParams)\n",
    "        # now we need to return DF with the whole page data\n",
    "        #next were gonna gather all the dfs together and save it to a file\n",
    "    #return df\n",
    "    \n",
    "    df = pd.DataFrame(data, columns=['Full_Name', 'Country', 'Wins' , 'Loses' ,'Decision' , 'Wins_By_KO' , 'Loses_By_KO', 'Wins_By_Submission' , 'Loses_By_Submission' ])\n",
    "    return df\n",
    "\n",
    "    "
   ]
  },
  {
   "cell_type": "markdown",
   "metadata": {},
   "source": [
    "<h3> test ourselves on the main page </h3>"
   ]
  },
  {
   "cell_type": "code",
   "execution_count": 273,
   "metadata": {},
   "outputs": [],
   "source": [
    "# scrapeTheWholePage('http://www.espn.com/mma/fighters')"
   ]
  },
  {
   "cell_type": "markdown",
   "metadata": {},
   "source": [
    "<h3>Now we need to orginize our data in a csv file  , since we have lots of data , we will split it to a few files</h3>"
   ]
  },
  {
   "cell_type": "code",
   "execution_count": 274,
   "metadata": {},
   "outputs": [],
   "source": [
    "def dataframToCsvFile(df , file_name, path):\n",
    "    os.makedirs(path, exist_ok=True) \n",
    "    df.to_csv(path+file_name , index=False)  "
   ]
  },
  {
   "cell_type": "code",
   "execution_count": 275,
   "metadata": {},
   "outputs": [],
   "source": [
    "def scrapePageAndSaveToCsv(page_link , page_num):\n",
    "        df=scrapeTheWholePage(page_link)\n",
    "        dataframToCsvFile(df,'dataPage'+str(page_num))\n",
    "        \n"
   ]
  },
  {
   "cell_type": "markdown",
   "metadata": {},
   "source": [
    "<h3> We're going to use threads to scrape all pages in pharllel </h3>"
   ]
  },
  {
   "cell_type": "code",
   "execution_count": 276,
   "metadata": {},
   "outputs": [],
   "source": [
    "\n",
    "def scrapeMultiPagesAnd(pagesToScrap):\n",
    "    threadList=[]\n",
    "    for i in range(len(pagesToScrap)):\n",
    "             threadObj=threading.Thread(target=scrapePageAndSaveToCsv, args=(pagesToScrap[i],i+6,))\n",
    "             threadObj.start();\n",
    "             threadList.append(threadObj)\n",
    "    for t in threadList:\n",
    "             t.join();"
   ]
  },
  {
   "cell_type": "code",
   "execution_count": 277,
   "metadata": {},
   "outputs": [],
   "source": [
    "pagesToScrap=pagesAToZ\n",
    "# scrapeMultiPagesAnd(pagesToScrap)"
   ]
  },
  {
   "cell_type": "markdown",
   "metadata": {},
   "source": [
    "<h3> Perfect ! now we have all our data scraped and reay for the next step 🥳 🥳 </h3>\n"
   ]
  },
  {
   "cell_type": "markdown",
   "metadata": {},
   "source": [
    "<h1 > Next Step <br>\n",
    "<span style=\"color:green;\"> Cleaning our Data 🧽 🧹<span> </h1>"
   ]
  },
  {
   "cell_type": "code",
   "execution_count": 278,
   "metadata": {},
   "outputs": [],
   "source": [
    "def load_csv(filename):\n",
    "    return pd.read_csv(filename)"
   ]
  },
  {
   "cell_type": "code",
   "execution_count": 279,
   "metadata": {},
   "outputs": [
    {
     "data": {
      "text/html": [
       "<div>\n",
       "<style scoped>\n",
       "    .dataframe tbody tr th:only-of-type {\n",
       "        vertical-align: middle;\n",
       "    }\n",
       "\n",
       "    .dataframe tbody tr th {\n",
       "        vertical-align: top;\n",
       "    }\n",
       "\n",
       "    .dataframe thead th {\n",
       "        text-align: right;\n",
       "    }\n",
       "</style>\n",
       "<table border=\"1\" class=\"dataframe\">\n",
       "  <thead>\n",
       "    <tr style=\"text-align: right;\">\n",
       "      <th></th>\n",
       "      <th>Full_Name</th>\n",
       "      <th>Country</th>\n",
       "      <th>Wins</th>\n",
       "      <th>Loses</th>\n",
       "      <th>Decision</th>\n",
       "      <th>Wins_By_KO</th>\n",
       "      <th>Loses_By_KO</th>\n",
       "      <th>Wins_By_Submission</th>\n",
       "      <th>Loses_By_Submission</th>\n",
       "    </tr>\n",
       "  </thead>\n",
       "  <tbody>\n",
       "    <tr>\n",
       "      <th>0</th>\n",
       "      <td>Zaba Arkadiusz</td>\n",
       "      <td>NaN</td>\n",
       "      <td>0.0</td>\n",
       "      <td>1.0</td>\n",
       "      <td>0.0</td>\n",
       "      <td>0.0</td>\n",
       "      <td>0.0</td>\n",
       "      <td>0.0</td>\n",
       "      <td>0.0</td>\n",
       "    </tr>\n",
       "    <tr>\n",
       "      <th>1</th>\n",
       "      <td>Zaba Marcin</td>\n",
       "      <td>NaN</td>\n",
       "      <td>0.0</td>\n",
       "      <td>1.0</td>\n",
       "      <td>0.0</td>\n",
       "      <td>0.0</td>\n",
       "      <td>0.0</td>\n",
       "      <td>0.0</td>\n",
       "      <td>0.0</td>\n",
       "    </tr>\n",
       "    <tr>\n",
       "      <th>2</th>\n",
       "      <td>Zabolotny Dmitry</td>\n",
       "      <td>NaN</td>\n",
       "      <td>1.0</td>\n",
       "      <td>3.0</td>\n",
       "      <td>0.0</td>\n",
       "      <td>0.0</td>\n",
       "      <td>2.0</td>\n",
       "      <td>1.0</td>\n",
       "      <td>1.0</td>\n",
       "    </tr>\n",
       "    <tr>\n",
       "      <th>3</th>\n",
       "      <td>Zabrocki Michael</td>\n",
       "      <td>NaN</td>\n",
       "      <td>0.0</td>\n",
       "      <td>1.0</td>\n",
       "      <td>0.0</td>\n",
       "      <td>0.0</td>\n",
       "      <td>1.0</td>\n",
       "      <td>0.0</td>\n",
       "      <td>0.0</td>\n",
       "    </tr>\n",
       "    <tr>\n",
       "      <th>4</th>\n",
       "      <td>Zac Charlie</td>\n",
       "      <td>NaN</td>\n",
       "      <td>0.0</td>\n",
       "      <td>2.0</td>\n",
       "      <td>0.0</td>\n",
       "      <td>0.0</td>\n",
       "      <td>0.0</td>\n",
       "      <td>0.0</td>\n",
       "      <td>2.0</td>\n",
       "    </tr>\n",
       "    <tr>\n",
       "      <th>5</th>\n",
       "      <td>Zachrich Luke</td>\n",
       "      <td>USA</td>\n",
       "      <td>NaN</td>\n",
       "      <td>NaN</td>\n",
       "      <td>NaN</td>\n",
       "      <td>4.0</td>\n",
       "      <td>1.0</td>\n",
       "      <td>7.0</td>\n",
       "      <td>3.0</td>\n",
       "    </tr>\n",
       "    <tr>\n",
       "      <th>6</th>\n",
       "      <td>Zaczkiewicz Sylwia</td>\n",
       "      <td>POL</td>\n",
       "      <td>0.0</td>\n",
       "      <td>1.0</td>\n",
       "      <td>0.0</td>\n",
       "      <td>0.0</td>\n",
       "      <td>1.0</td>\n",
       "      <td>0.0</td>\n",
       "      <td>0.0</td>\n",
       "    </tr>\n",
       "    <tr>\n",
       "      <th>7</th>\n",
       "      <td>Zadernovsky Igor</td>\n",
       "      <td>POL</td>\n",
       "      <td>0.0</td>\n",
       "      <td>2.0</td>\n",
       "      <td>0.0</td>\n",
       "      <td>0.0</td>\n",
       "      <td>0.0</td>\n",
       "      <td>0.0</td>\n",
       "      <td>2.0</td>\n",
       "    </tr>\n",
       "    <tr>\n",
       "      <th>8</th>\n",
       "      <td>Zadruzynski Filip</td>\n",
       "      <td>POL</td>\n",
       "      <td>0.0</td>\n",
       "      <td>1.0</td>\n",
       "      <td>0.0</td>\n",
       "      <td>0.0</td>\n",
       "      <td>0.0</td>\n",
       "      <td>0.0</td>\n",
       "      <td>1.0</td>\n",
       "    </tr>\n",
       "    <tr>\n",
       "      <th>9</th>\n",
       "      <td>Zafir Anton</td>\n",
       "      <td>AUS</td>\n",
       "      <td>7.0</td>\n",
       "      <td>3.0</td>\n",
       "      <td>0.0</td>\n",
       "      <td>3.0</td>\n",
       "      <td>3.0</td>\n",
       "      <td>3.0</td>\n",
       "      <td>0.0</td>\n",
       "    </tr>\n",
       "  </tbody>\n",
       "</table>\n",
       "</div>"
      ],
      "text/plain": [
       "            Full_Name Country  Wins  Loses  Decision  Wins_By_KO  Loses_By_KO  \\\n",
       "0      Zaba Arkadiusz     NaN   0.0    1.0       0.0         0.0          0.0   \n",
       "1         Zaba Marcin     NaN   0.0    1.0       0.0         0.0          0.0   \n",
       "2    Zabolotny Dmitry     NaN   1.0    3.0       0.0         0.0          2.0   \n",
       "3    Zabrocki Michael     NaN   0.0    1.0       0.0         0.0          1.0   \n",
       "4         Zac Charlie     NaN   0.0    2.0       0.0         0.0          0.0   \n",
       "5       Zachrich Luke     USA   NaN    NaN       NaN         4.0          1.0   \n",
       "6  Zaczkiewicz Sylwia     POL   0.0    1.0       0.0         0.0          1.0   \n",
       "7    Zadernovsky Igor     POL   0.0    2.0       0.0         0.0          0.0   \n",
       "8   Zadruzynski Filip     POL   0.0    1.0       0.0         0.0          0.0   \n",
       "9         Zafir Anton     AUS   7.0    3.0       0.0         3.0          3.0   \n",
       "\n",
       "   Wins_By_Submission  Loses_By_Submission  \n",
       "0                 0.0                  0.0  \n",
       "1                 0.0                  0.0  \n",
       "2                 1.0                  1.0  \n",
       "3                 0.0                  0.0  \n",
       "4                 0.0                  2.0  \n",
       "5                 7.0                  3.0  \n",
       "6                 0.0                  0.0  \n",
       "7                 0.0                  2.0  \n",
       "8                 0.0                  1.0  \n",
       "9                 3.0                  0.0  "
      ]
     },
     "execution_count": 279,
     "metadata": {},
     "output_type": "execute_result"
    }
   ],
   "source": [
    "df=load_csv('./scrapedData/dataPage25.csv')\n",
    "df.head(10)\n"
   ]
  },
  {
   "cell_type": "code",
   "execution_count": 280,
   "metadata": {},
   "outputs": [],
   "source": [
    "def fillNansWihtValues(df , col_names_list , value_to_fill_with):\n",
    "    df_cpy=df.copy();\n",
    "    for col_name in col_names_list:\n",
    "         df_cpy[col_name]=df_cpy[col_name].fillna(value_to_fill_with).copy()\n",
    "    return df_cpy\n"
   ]
  },
  {
   "cell_type": "code",
   "execution_count": 281,
   "metadata": {},
   "outputs": [],
   "source": [
    "def removeColFromDf(df , cols_list_to_remove):\n",
    "    df_cpy=df.copy()\n",
    "    return df_cpy.drop(cols_list_to_remove , axis=1)"
   ]
  },
  {
   "cell_type": "code",
   "execution_count": 282,
   "metadata": {},
   "outputs": [],
   "source": [
    "def addColToDf(df , col_name , col_fixed_value):\n",
    "    df_cpy=df.copy()\n",
    "    df_cpy[col_name]=col_fixed_value\n",
    "    return df_cpy\n"
   ]
  },
  {
   "cell_type": "code",
   "execution_count": 283,
   "metadata": {},
   "outputs": [],
   "source": [
    "def remove_rows_with_NA_vals_in_specific_col(df , specific_col ):\n",
    "    df_cpy=df.copy()\n",
    "    return df_cpy.dropna(subset=[specific_col])\n"
   ]
  },
  {
   "cell_type": "code",
   "execution_count": 284,
   "metadata": {},
   "outputs": [],
   "source": [
    "def remove_duplicates(df, col):\n",
    "    df_cpy=df.copy()\n",
    "    df_cpy=df_cpy.drop_duplicates(subset=[col])\n",
    "    return df_cpy"
   ]
  },
  {
   "cell_type": "code",
   "execution_count": 285,
   "metadata": {},
   "outputs": [
    {
     "data": {
      "text/html": [
       "<div>\n",
       "<style scoped>\n",
       "    .dataframe tbody tr th:only-of-type {\n",
       "        vertical-align: middle;\n",
       "    }\n",
       "\n",
       "    .dataframe tbody tr th {\n",
       "        vertical-align: top;\n",
       "    }\n",
       "\n",
       "    .dataframe thead th {\n",
       "        text-align: right;\n",
       "    }\n",
       "</style>\n",
       "<table border=\"1\" class=\"dataframe\">\n",
       "  <thead>\n",
       "    <tr style=\"text-align: right;\">\n",
       "      <th></th>\n",
       "      <th>Full_Name</th>\n",
       "      <th>Country</th>\n",
       "      <th>Wins</th>\n",
       "      <th>Loses</th>\n",
       "      <th>Decision</th>\n",
       "      <th>Wins_By_KO</th>\n",
       "      <th>Loses_By_KO</th>\n",
       "      <th>Wins_By_Submission</th>\n",
       "      <th>Loses_By_Submission</th>\n",
       "    </tr>\n",
       "  </thead>\n",
       "  <tbody>\n",
       "    <tr>\n",
       "      <th>0</th>\n",
       "      <td>Zaba Arkadiusz</td>\n",
       "      <td>NaN</td>\n",
       "      <td>0.0</td>\n",
       "      <td>1.0</td>\n",
       "      <td>0.0</td>\n",
       "      <td>0.0</td>\n",
       "      <td>0.0</td>\n",
       "      <td>0.0</td>\n",
       "      <td>0.0</td>\n",
       "    </tr>\n",
       "    <tr>\n",
       "      <th>1</th>\n",
       "      <td>Zaba Marcin</td>\n",
       "      <td>NaN</td>\n",
       "      <td>0.0</td>\n",
       "      <td>1.0</td>\n",
       "      <td>0.0</td>\n",
       "      <td>0.0</td>\n",
       "      <td>0.0</td>\n",
       "      <td>0.0</td>\n",
       "      <td>0.0</td>\n",
       "    </tr>\n",
       "    <tr>\n",
       "      <th>2</th>\n",
       "      <td>Zabolotny Dmitry</td>\n",
       "      <td>NaN</td>\n",
       "      <td>1.0</td>\n",
       "      <td>3.0</td>\n",
       "      <td>0.0</td>\n",
       "      <td>0.0</td>\n",
       "      <td>2.0</td>\n",
       "      <td>1.0</td>\n",
       "      <td>1.0</td>\n",
       "    </tr>\n",
       "    <tr>\n",
       "      <th>3</th>\n",
       "      <td>Zabrocki Michael</td>\n",
       "      <td>NaN</td>\n",
       "      <td>0.0</td>\n",
       "      <td>1.0</td>\n",
       "      <td>0.0</td>\n",
       "      <td>0.0</td>\n",
       "      <td>1.0</td>\n",
       "      <td>0.0</td>\n",
       "      <td>0.0</td>\n",
       "    </tr>\n",
       "    <tr>\n",
       "      <th>4</th>\n",
       "      <td>Zac Charlie</td>\n",
       "      <td>NaN</td>\n",
       "      <td>0.0</td>\n",
       "      <td>2.0</td>\n",
       "      <td>0.0</td>\n",
       "      <td>0.0</td>\n",
       "      <td>0.0</td>\n",
       "      <td>0.0</td>\n",
       "      <td>2.0</td>\n",
       "    </tr>\n",
       "  </tbody>\n",
       "</table>\n",
       "</div>"
      ],
      "text/plain": [
       "          Full_Name Country  Wins  Loses  Decision  Wins_By_KO  Loses_By_KO  \\\n",
       "0    Zaba Arkadiusz     NaN   0.0    1.0       0.0         0.0          0.0   \n",
       "1       Zaba Marcin     NaN   0.0    1.0       0.0         0.0          0.0   \n",
       "2  Zabolotny Dmitry     NaN   1.0    3.0       0.0         0.0          2.0   \n",
       "3  Zabrocki Michael     NaN   0.0    1.0       0.0         0.0          1.0   \n",
       "4       Zac Charlie     NaN   0.0    2.0       0.0         0.0          0.0   \n",
       "\n",
       "   Wins_By_Submission  Loses_By_Submission  \n",
       "0                 0.0                  0.0  \n",
       "1                 0.0                  0.0  \n",
       "2                 1.0                  1.0  \n",
       "3                 0.0                  0.0  \n",
       "4                 0.0                  2.0  "
      ]
     },
     "execution_count": 285,
     "metadata": {},
     "output_type": "execute_result"
    }
   ],
   "source": [
    "df.head(5)"
   ]
  },
  {
   "cell_type": "code",
   "execution_count": 286,
   "metadata": {},
   "outputs": [],
   "source": [
    "def fillWinsAndLosesCol(df):\n",
    "    df_cpy=df.copy()\n",
    "    for index,row in df_cpy.iterrows():\n",
    "         row['Wins']=row['Wins_By_KO']+row['Wins_By_Submission']\n",
    "         row['Loses']=row['Loses_By_KO']+row['Loses_By_Submission']\n",
    "         dec=row['Decision']\n",
    "         if dec==float('NaN') or math.isnan(dec) or (not dec):\n",
    "              row['Decision']=0\n",
    "    return df_cpy\n"
   ]
  },
  {
   "cell_type": "code",
   "execution_count": null,
   "metadata": {},
   "outputs": [],
   "source": []
  },
  {
   "cell_type": "code",
   "execution_count": 287,
   "metadata": {},
   "outputs": [],
   "source": [
    "def dataCleanUpFlow(out_folder_loc , list_of_file_names):\n",
    "    for file in list_of_file_names:\n",
    "        scrapedData_filename='./scrapedData/'+file+'.csv'\n",
    "\n",
    "        df=load_csv(scrapedData_filename)\n",
    "        df=remove_duplicates(df , 'Full_Name')\n",
    "        df=remove_rows_with_NA_vals_in_specific_col(df , 'Country' )\n",
    "        df=remove_rows_with_NA_vals_in_specific_col(df , 'Full_Name' )\n",
    "        df=fillNansWihtValues(df , ['Loses','Wins','Decision' , 'Wins_By_KO' , 'Loses_By_KO' , 'Wins_By_Submission','Loses_By_Submission'] , 0)\n",
    "        df=fillWinsAndLosesCol(df)\n",
    "        df=addColToDf(df , 'Champion' , 0)\n",
    "        dataframToCsvFile(df,file+'.csv' , out_folder_loc)\n",
    "\n",
    "        \n",
    "        \n",
    "        "
   ]
  },
  {
   "cell_type": "code",
   "execution_count": null,
   "metadata": {},
   "outputs": [],
   "source": []
  },
  {
   "cell_type": "code",
   "execution_count": 288,
   "metadata": {},
   "outputs": [],
   "source": [
    "listOfFiles=['dataPage'+str(i)  for i in range(26)]\n",
    "path='./cleanedData/'\n",
    "dataCleanUpFlow(path,listOfFiles)\n",
    "# We add the ufc and bellator athletes to the first indexes of the list so when we clean duplicates we won't delete them\n",
    "listOfFiles.insert(0,'ufc_athlets')\n",
    "listOfFiles.insert(1,'bellator_athlets')\n",
    "\n"
   ]
  },
  {
   "cell_type": "code",
   "execution_count": 289,
   "metadata": {},
   "outputs": [],
   "source": [
    "def concat_dataframes(listOfFiles):\n",
    "    dfList=[]\n",
    "    for f in listOfFiles:\n",
    "        df=load_csv('./cleanedData/'+f+'.csv')\n",
    "        dfList.append(df)\n",
    "   \n",
    "    df= pd.concat(dfList)\n",
    "    dataframToCsvFile(df,'allData.csv','./allDataMerged/')\n"
   ]
  },
  {
   "cell_type": "code",
   "execution_count": 290,
   "metadata": {},
   "outputs": [],
   "source": [
    "df_all_tables= concat_dataframes(listOfFiles)\n"
   ]
  },
  {
   "cell_type": "code",
   "execution_count": 291,
   "metadata": {},
   "outputs": [],
   "source": [
    "ufc_champs=[\"Francis Ngannou\",\"Glover Teixeira\",\"Israel Adesanya\",\n",
    "\"Kamaru Usman\",\"Charles Oliveira\",\"Alexander Volkanovski\",\"Aljamain Sterling\",\n",
    "\"Petr Yan\",\"Deiveson Figueiredo\",\"Amanda Nunes\",\"Julianna Pena\",\"Valentina Shevchenko\",\n",
    "\"Rose Namajunas\",\"Randy Couture\" , \"Antonio Rodrigo Nogueira\",\"Brock Lesnar\",\n",
    "\"Frank Mir\",\"Shane Carwin\",\"Junior dos Santos\",\n",
    "\"Cain Velasquez\",\"Fabrício Werdum\" , \"Stipe Miocic\",\n",
    "\"Daniel Cormier\",\"Frank Shamrock\",\"Tito Ortiz\",\"Randy Couture\",\"Vitor Belfort\",\n",
    "\"Chuck Liddell\",\"Quinton Jackson\",\"Forrest Griffin\",\"Rashad Evans\",\"Lyoto Machida\",\n",
    "\"Maurício Rua\", \"Jon Jones\",\"Dave Menne\",\"Murilo Bustamante\",\"Evan Tanner\",\"Rich Franklin\",\n",
    "\"Anderson Silva\",\"Chris Weidman\", \"Frankie Edgar\",\"Benson Henderson\",\"Anthony Pettis\"\n",
    ",\"Luke Rockhold\",\"Michael Bisping\",\"Robert Whittaker\",\"Georges St-Pierre\",\"Robert Whittaker\",\n",
    "\"Pat Miletich\",\"Carlos Newton\",\"Matt Hughes\",\"B.J. Penn\",\"Johny Hendricks\",\"Robbie Lawler\",\n",
    "\"Tyron Woodley\",\"Rafael dos Anjos\",\"Eddie Alvarez\",\"Conor McGregor\",\"Tony Ferguson\",\n",
    "\"Khabib Nurmagomedov\",\"Dustin Poirier\",\"Charles Oliveira\",\"Jose Aldo\",\"Conor McGregor\",\"Max Holloway\",\n",
    "\"Alexander Volkanovski\",\"Dominick Cruz\",\"T.J. Dillashaw\",\"Cody Garbrandt\",\"T.J. Dillashaw\",\"Cris Cyborg\",\n",
    "\"Ronda Rousey\",\"Holly Holm\",\"Miesha Tate\",\"Ken Shamrock\"\n",
    "]\n",
    "bellator_champs=[\"Cole Konrad\",\"Alexander Volkov\",\"Vitaly Minakov\",\"Ryan Bader\",\n",
    "\"Valentin Moldavsky\",\"Christian M'Pumbu\",\"Attila Vegh\",\n",
    "\"Emanuel Newton\",\"Liam McGeary\",\"Phil Davis\",\n",
    "\"Ryan Bader\",\"Vadim Nemkov\",\"Hector Lombard\",\"Alexander Shlemenko\",\"Brandon Halsey\",\n",
    "\"Rafael Carvalho\",\"Gegard Mousasi\",\"Rafael Lovato Jr\",\n",
    "\"Gegard Mousasi\",\"Lyman Good\",\n",
    "\"Ben Askren\",\"Douglas Lima\",\"Andrey Koreshkov\",\n",
    "\"Douglas Lima\",\"Rory MacDonald\",\"Yaroslav Amosov\",\"Eddie Alvarez\",\"Michael Chandler\",\n",
    "\"Eddie Alvarez\",\"Will Brooks\",\"Brent Primus\",\"Patrício Pitbull\",\"Joe Soto\",\"Joe Warren\",\n",
    "\"Pat Curran\",\"Daniel Straus\",\"A.J. McKee\",\"Zach Makovsky\",\"Eduardo Dantas\",\"Joe Warren\",\n",
    "\"Marcos Galvão\",\"Darrion Caldwell\",\"Kyoji Horiguchi\",\"Juan Archuleta\",\"Sergio Pettis\",\"Julia Budd\"\n",
    "\n",
    "]\n",
    "\n",
    "allChamps=ufc_champs+bellator_champs\n",
    "# checkNameAndChangeChampionVal(df , list_of_champions)"
   ]
  },
  {
   "cell_type": "code",
   "execution_count": 292,
   "metadata": {},
   "outputs": [],
   "source": [
    "def reverse_word(sentence):\n",
    "    words=sentence.split()\n",
    "    reversed_sentence=' '.join(reversed(words))\n",
    "    return reversed_sentence"
   ]
  },
  {
   "cell_type": "code",
   "execution_count": null,
   "metadata": {},
   "outputs": [],
   "source": []
  },
  {
   "cell_type": "code",
   "execution_count": null,
   "metadata": {},
   "outputs": [],
   "source": []
  },
  {
   "cell_type": "markdown",
   "metadata": {},
   "source": [
    "<h3> Yay ! We have alll of our data cleaned up , merged and ready for work !\n",
    "</h3>"
   ]
  },
  {
   "cell_type": "markdown",
   "metadata": {},
   "source": [
    "<h1> \n",
    "Next Step :<span style=\"color:#FF00FF;\">  Visualisation</span>\n",
    " </h1>"
   ]
  },
  {
   "cell_type": "code",
   "execution_count": 293,
   "metadata": {},
   "outputs": [
    {
     "data": {
      "text/html": [
       "<div>\n",
       "<style scoped>\n",
       "    .dataframe tbody tr th:only-of-type {\n",
       "        vertical-align: middle;\n",
       "    }\n",
       "\n",
       "    .dataframe tbody tr th {\n",
       "        vertical-align: top;\n",
       "    }\n",
       "\n",
       "    .dataframe thead th {\n",
       "        text-align: right;\n",
       "    }\n",
       "</style>\n",
       "<table border=\"1\" class=\"dataframe\">\n",
       "  <thead>\n",
       "    <tr style=\"text-align: right;\">\n",
       "      <th></th>\n",
       "      <th>Full_Name</th>\n",
       "      <th>Country</th>\n",
       "      <th>Wins</th>\n",
       "      <th>Loses</th>\n",
       "      <th>Decision</th>\n",
       "      <th>Wins_By_KO</th>\n",
       "      <th>Loses_By_KO</th>\n",
       "      <th>Wins_By_Submission</th>\n",
       "      <th>Loses_By_Submission</th>\n",
       "    </tr>\n",
       "  </thead>\n",
       "  <tbody>\n",
       "    <tr>\n",
       "      <th>0</th>\n",
       "      <td>Zaba Arkadiusz</td>\n",
       "      <td>NaN</td>\n",
       "      <td>0.0</td>\n",
       "      <td>1.0</td>\n",
       "      <td>0.0</td>\n",
       "      <td>0.0</td>\n",
       "      <td>0.0</td>\n",
       "      <td>0.0</td>\n",
       "      <td>0.0</td>\n",
       "    </tr>\n",
       "    <tr>\n",
       "      <th>1</th>\n",
       "      <td>Zaba Marcin</td>\n",
       "      <td>NaN</td>\n",
       "      <td>0.0</td>\n",
       "      <td>1.0</td>\n",
       "      <td>0.0</td>\n",
       "      <td>0.0</td>\n",
       "      <td>0.0</td>\n",
       "      <td>0.0</td>\n",
       "      <td>0.0</td>\n",
       "    </tr>\n",
       "    <tr>\n",
       "      <th>2</th>\n",
       "      <td>Zabolotny Dmitry</td>\n",
       "      <td>NaN</td>\n",
       "      <td>1.0</td>\n",
       "      <td>3.0</td>\n",
       "      <td>0.0</td>\n",
       "      <td>0.0</td>\n",
       "      <td>2.0</td>\n",
       "      <td>1.0</td>\n",
       "      <td>1.0</td>\n",
       "    </tr>\n",
       "    <tr>\n",
       "      <th>3</th>\n",
       "      <td>Zabrocki Michael</td>\n",
       "      <td>NaN</td>\n",
       "      <td>0.0</td>\n",
       "      <td>1.0</td>\n",
       "      <td>0.0</td>\n",
       "      <td>0.0</td>\n",
       "      <td>1.0</td>\n",
       "      <td>0.0</td>\n",
       "      <td>0.0</td>\n",
       "    </tr>\n",
       "    <tr>\n",
       "      <th>4</th>\n",
       "      <td>Zac Charlie</td>\n",
       "      <td>NaN</td>\n",
       "      <td>0.0</td>\n",
       "      <td>2.0</td>\n",
       "      <td>0.0</td>\n",
       "      <td>0.0</td>\n",
       "      <td>0.0</td>\n",
       "      <td>0.0</td>\n",
       "      <td>2.0</td>\n",
       "    </tr>\n",
       "  </tbody>\n",
       "</table>\n",
       "</div>"
      ],
      "text/plain": [
       "          Full_Name Country  Wins  Loses  Decision  Wins_By_KO  Loses_By_KO  \\\n",
       "0    Zaba Arkadiusz     NaN   0.0    1.0       0.0         0.0          0.0   \n",
       "1       Zaba Marcin     NaN   0.0    1.0       0.0         0.0          0.0   \n",
       "2  Zabolotny Dmitry     NaN   1.0    3.0       0.0         0.0          2.0   \n",
       "3  Zabrocki Michael     NaN   0.0    1.0       0.0         0.0          1.0   \n",
       "4       Zac Charlie     NaN   0.0    2.0       0.0         0.0          0.0   \n",
       "\n",
       "   Wins_By_Submission  Loses_By_Submission  \n",
       "0                 0.0                  0.0  \n",
       "1                 0.0                  0.0  \n",
       "2                 1.0                  1.0  \n",
       "3                 0.0                  0.0  \n",
       "4                 0.0                  2.0  "
      ]
     },
     "execution_count": 293,
     "metadata": {},
     "output_type": "execute_result"
    }
   ],
   "source": [
    "df.head(5)"
   ]
  },
  {
   "cell_type": "code",
   "execution_count": 294,
   "metadata": {},
   "outputs": [],
   "source": [
    "\n",
    "def checkNameAndChangeChampionVal(df , list_of_champions):\n",
    "    # for each row  -> if name in list_of_champions ->isChamp= 1\n",
    "    # df = df.reset_index()\n",
    "    champ_set=set(list_of_champions)\n",
    "    print(\"Started :\",len(champ_set))\n",
    "\n",
    "    df_cpy=df.copy()\n",
    "    for index,row in df_cpy.iterrows():\n",
    "        # print(row[\"Full_Name\"].strip())\n",
    "        if (row[\"Full_Name\"].strip() in champ_set)  :\n",
    "            # row['Champion'] =1\n",
    "            df_cpy.at[index,'Champion'] = 1\n",
    "            champ_set.remove(row[\"Full_Name\"].strip()) \n",
    "        elif (reverse_word(row['Full_Name']) in champ_set ) :\n",
    "            # row['Champion']  = 1\n",
    "            df_cpy.at[index,'Champion'] = 1\n",
    "\n",
    "            champ_set.remove(reverse_word(row[\"Full_Name\"].strip()))\n",
    "    print(len(champ_set))\n",
    "    print(champ_set)\n",
    "\n",
    "    return df_cpy"
   ]
  },
  {
   "cell_type": "markdown",
   "metadata": {},
   "source": [
    "<h3> first we need to load the merged data frame </h3>\n"
   ]
  },
  {
   "cell_type": "code",
   "execution_count": 295,
   "metadata": {},
   "outputs": [
    {
     "name": "stdout",
     "output_type": "stream",
     "text": [
      "Started : 69\n",
      "6\n",
      "{'Julianna Pena', 'Antonio Rodrigo Nogueira', 'Fabrício Werdum', 'Junior dos Santos', 'T.J. Dillashaw', 'B.J. Penn'}\n",
      "Started : 41\n",
      "2\n",
      "{'Rafael Lovato Jr', 'Marcos Galvão'}\n"
     ]
    },
    {
     "data": {
      "text/html": [
       "<div>\n",
       "<style scoped>\n",
       "    .dataframe tbody tr th:only-of-type {\n",
       "        vertical-align: middle;\n",
       "    }\n",
       "\n",
       "    .dataframe tbody tr th {\n",
       "        vertical-align: top;\n",
       "    }\n",
       "\n",
       "    .dataframe thead th {\n",
       "        text-align: right;\n",
       "    }\n",
       "</style>\n",
       "<table border=\"1\" class=\"dataframe\">\n",
       "  <thead>\n",
       "    <tr style=\"text-align: right;\">\n",
       "      <th></th>\n",
       "      <th>Full_Name</th>\n",
       "      <th>Country</th>\n",
       "      <th>Wins</th>\n",
       "      <th>Loses</th>\n",
       "      <th>Decision</th>\n",
       "      <th>Wins_By_KO</th>\n",
       "      <th>Loses_By_KO</th>\n",
       "      <th>Wins_By_Submission</th>\n",
       "      <th>Loses_By_Submission</th>\n",
       "      <th>Champion</th>\n",
       "    </tr>\n",
       "  </thead>\n",
       "  <tbody>\n",
       "    <tr>\n",
       "      <th>0</th>\n",
       "      <td>Andrei Arlovski</td>\n",
       "      <td>Belarus</td>\n",
       "      <td>21.0</td>\n",
       "      <td>14.0</td>\n",
       "      <td>0.0</td>\n",
       "      <td>8.0</td>\n",
       "      <td>12.0</td>\n",
       "      <td>13.0</td>\n",
       "      <td>2.0</td>\n",
       "      <td>0</td>\n",
       "    </tr>\n",
       "    <tr>\n",
       "      <th>1</th>\n",
       "      <td>Ben Rothwell</td>\n",
       "      <td>United States</td>\n",
       "      <td>9.0</td>\n",
       "      <td>8.0</td>\n",
       "      <td>0.0</td>\n",
       "      <td>6.0</td>\n",
       "      <td>0.0</td>\n",
       "      <td>3.0</td>\n",
       "      <td>8.0</td>\n",
       "      <td>0</td>\n",
       "    </tr>\n",
       "    <tr>\n",
       "      <th>2</th>\n",
       "      <td>Alexander Gustafsson</td>\n",
       "      <td>Sweden</td>\n",
       "      <td>10.0</td>\n",
       "      <td>7.0</td>\n",
       "      <td>0.0</td>\n",
       "      <td>0.0</td>\n",
       "      <td>4.0</td>\n",
       "      <td>10.0</td>\n",
       "      <td>3.0</td>\n",
       "      <td>0</td>\n",
       "    </tr>\n",
       "    <tr>\n",
       "      <th>3</th>\n",
       "      <td>Ovince Saint Preux</td>\n",
       "      <td>Haiti</td>\n",
       "      <td>15.0</td>\n",
       "      <td>12.0</td>\n",
       "      <td>0.0</td>\n",
       "      <td>5.0</td>\n",
       "      <td>1.0</td>\n",
       "      <td>10.0</td>\n",
       "      <td>11.0</td>\n",
       "      <td>0</td>\n",
       "    </tr>\n",
       "    <tr>\n",
       "      <th>4</th>\n",
       "      <td>Stipe Miocic</td>\n",
       "      <td>United States</td>\n",
       "      <td>14.0</td>\n",
       "      <td>4.0</td>\n",
       "      <td>0.0</td>\n",
       "      <td>8.0</td>\n",
       "      <td>0.0</td>\n",
       "      <td>6.0</td>\n",
       "      <td>4.0</td>\n",
       "      <td>1</td>\n",
       "    </tr>\n",
       "  </tbody>\n",
       "</table>\n",
       "</div>"
      ],
      "text/plain": [
       "              Full_Name        Country  Wins  Loses  Decision  Wins_By_KO  \\\n",
       "0       Andrei Arlovski       Belarus   21.0   14.0       0.0         8.0   \n",
       "1          Ben Rothwell  United States   9.0    8.0       0.0         6.0   \n",
       "2  Alexander Gustafsson        Sweden   10.0    7.0       0.0         0.0   \n",
       "3    Ovince Saint Preux         Haiti   15.0   12.0       0.0         5.0   \n",
       "4          Stipe Miocic  United States  14.0    4.0       0.0         8.0   \n",
       "\n",
       "   Loses_By_KO  Wins_By_Submission  Loses_By_Submission  Champion  \n",
       "0         12.0                13.0                  2.0         0  \n",
       "1          0.0                 3.0                  8.0         0  \n",
       "2          4.0                10.0                  3.0         0  \n",
       "3          1.0                10.0                 11.0         0  \n",
       "4          0.0                 6.0                  4.0         1  "
      ]
     },
     "execution_count": 295,
     "metadata": {},
     "output_type": "execute_result"
    }
   ],
   "source": [
    "\n",
    "\n",
    "df=load_csv('./allDataMerged/allData.csv')\n",
    "for  row in df[\"Country\"]:\n",
    "    row=row.strip()\n",
    "for  row in df[\"Full_Name\"]:\n",
    "    row=row.strip()\n",
    "df=remove_duplicates(df, 'Full_Name')\n",
    "\n",
    "df=checkNameAndChangeChampionVal(df,ufc_champs)\n",
    "df=checkNameAndChangeChampionVal(df,bellator_champs)\n",
    "dataframToCsvFile(df,'ready_for_process_data.csv','./readyForProcess/')\n",
    "df.head(5)"
   ]
  },
  {
   "cell_type": "code",
   "execution_count": 296,
   "metadata": {},
   "outputs": [
    {
     "data": {
      "text/plain": [
       "<AxesSubplot:xlabel='Wins', ylabel='Density'>"
      ]
     },
     "execution_count": 296,
     "metadata": {},
     "output_type": "execute_result"
    },
    {
     "data": {
      "image/png": "[encoded data removed]",
      "text/plain": [
       "<Figure size 432x288 with 1 Axes>"
      ]
     },
     "metadata": {
      "needs_background": "light"
     },
     "output_type": "display_data"
    }
   ],
   "source": [
    "\n",
    "sns.kdeplot(df.Wins, shade=True)\n",
    "sns.kdeplot(df.Wins_By_KO, shade=True)\n",
    "sns.kdeplot(df.Wins_By_Submission, shade=True)\n",
    "\n",
    "\n",
    "\n",
    "\n",
    "\n"
   ]
  },
  {
   "cell_type": "code",
   "execution_count": 297,
   "metadata": {},
   "outputs": [
    {
     "data": {
      "text/plain": [
       "<AxesSubplot:xlabel='Loses', ylabel='Density'>"
      ]
     },
     "execution_count": 297,
     "metadata": {},
     "output_type": "execute_result"
    },
    {
     "data": {
      "image/png": "[encoded data removed]",
      "text/plain": [
       "<Figure size 432x288 with 1 Axes>"
      ]
     },
     "metadata": {
      "needs_background": "light"
     },
     "output_type": "display_data"
    }
   ],
   "source": [
    "sns.kdeplot(df.Loses, shade=True)\n",
    "sns.kdeplot(df.Loses_By_KO, shade=True)\n",
    "sns.kdeplot(df.Loses_By_Submission, shade=True)"
   ]
  },
  {
   "cell_type": "code",
   "execution_count": 298,
   "metadata": {},
   "outputs": [],
   "source": [
    "df['Country'].unique()\n",
    "obj={'Belarus':'BLR',' Belarus':'BLR' ,'Belarus ':'BLR', 'United States':'USA', 'Sweden ':'SWE', 'Haiti ':'HAI', 'Brazil ':'BRA',\n",
    "       'Russian Federation':'RUS', 'Cameroon ':'CAM', 'Syria ':'SYR', 'Poland ':'POL',\n",
    "       'Australia ':'AUS', 'Bulgaria ':'BUL', 'Spain ':'ESP', 'Suriname ':'SUR', 'Moldova ':'MDV',\n",
    "       'France ':'FRA', 'Canada ':'CAN', 'England ':'ENG', 'Ukraine ':'UKR', 'Italy ':'ITA',\n",
    "       'Scotland ':'SCT', 'Switzerland ':\"SWI\", 'Austria ':'AUT', 'Romania ':'ROM', 'Nigeria ':'NGR',\n",
    "       'South Korea':'SKO', 'the Czech':'CZR', 'New Zealand':'NZL', 'Jamaica ':'JAM', 'Ghana ':'GHA',\n",
    "       'Norway ':'NOR', 'Wales ':'WAL', 'China ':'CHN', 'Morocco ':'MOR', 'North Macedonia':'MAC',\n",
    "       'the Democratic':'CGO', 'Uzbekistan ':'UZN', 'Greece ':'GRE', 'Georgia ':'GEO', 'Serbia ':'SER',\n",
    "       'South Africa':'SAF', 'Iceland ':'ICL', 'Argentina ':'ARG', 'Denmark ':'DEN', 'Germany ':'GER',\n",
    "       'Japan ':'JAP', 'Tunisia ':'TUN', 'Kazakhstan ':'KAZ', 'Hong Kong':'HKG', 'Guyana':'GHA' ,\n",
    "       'Ireland ':'IRL', 'Ecuador ':'ECU', 'Portugal ':'POR', 'Bosnia and':'BOS', 'Peru ':'PER',\n",
    "       'the Northern':'IRL', 'Kyrgyzstan ':'KYR', 'Armenia ':'ARM', 'Mexico ':'MEX', 'Chile ':'CHL',\n",
    "       'Uganda ':'UGA', 'Israel ':'ISR', 'Finland ':'FIN', 'Venezuela ':'VEZ', 'Slovakia ':'SVK',\n",
    "       'Mongolia ':'MON', 'Guam ':'GUA', 'Philippines ':'PHL', 'Belgium ':'BEL', 'Angola ':'AGO',\n",
    "       'Colombia ':'COL', 'Netherlands ':'NED', 'Lithuania ':'LIT', 'Panama ':'PAN', 'Thailand ':'THI',\n",
    "       'England':'ENG', 'Russia':'RUS', 'Suriname':'SUR', 'France':'FRA', 'Brazil':'BRA', 'Turkey':\"TUR\",\n",
    "       'Netherlands':'NED', 'Lithuania':'LIT', 'Sweden':'SWE', 'Turkmenistan':'TKS', 'Cuba':'CUB',\n",
    "       'Republic of Ireland':'ITL', 'Hungary':'HUN', 'Armenia':'ARM', 'Aruba':'ARU', 'Tajikistan':'TAJ',\n",
    "       'Ukraine':'UKR', 'Italy':'ITA', 'Jamaica':'JAM', 'Wales':'WAL', 'Canada':'CAN', 'Scotland':'SCO',\n",
    "       'Georgia (country)':'GEO', 'Israel':'ISL', 'Finland':'FIN', 'Denmark':'DEN', 'Germany':'GER',\n",
    "       'Peru':'PER', 'Portugal':'POR', 'Morocco':'MOR', 'Japan':'JAP', 'Mexico':'MEX', 'Australia':'AUS',\n",
    "       'Northern Ireland':'IRL', 'Greece':'GRE', 'Colombia':'COL' , 'Guyana ':'GUA','BIH':'BOS','AHO':'NED' , 'CMR':'CAM','HOL':'NED'}\n",
    "df=df.replace(obj)\n",
    "df=df.replace({'URU':'RUS','VEN':'VEZ','SCO':'SCT','ISL':'ISR','ITL':'ITA','NIR':'NGR'})\n",
    "\n",
    "\n",
    "dataframToCsvFile(df,'ready_for_process_data.csv','./readyForProcess/')\n",
    "\n",
    "\n",
    "\n",
    "\n",
    "\n",
    "\n",
    "\n",
    "\n",
    "\n",
    "\n"
   ]
  },
  {
   "cell_type": "code",
   "execution_count": 312,
   "metadata": {},
   "outputs": [],
   "source": [
    "# sorted(df['Country'].unique())"
   ]
  },
  {
   "cell_type": "code",
   "execution_count": 316,
   "metadata": {},
   "outputs": [],
   "source": [
    "\n",
    " \n",
    " \n",
    "poor_countries=[ \n",
    "  'TAH',\n",
    " 'TAJ',\n",
    " 'THA',\n",
    " 'THI',\n",
    " 'TJK',\n",
    " 'TKM',\n",
    " 'TKS',\n",
    " 'TOG',\n",
    " 'TUN',\n",
    " 'TWN',\n",
    " 'UGA',\n",
    " 'UKR',\n",
    " 'UZN',\n",
    " 'VEZ',\n",
    " 'VIE',\n",
    " 'WAL',\n",
    " 'ZAR',\n",
    " 'ZIM'\n",
    "   'SAF',\n",
    " 'SER',\n",
    " 'SKO',\n",
    " 'SLO',\n",
    " 'SUI',\n",
    " 'SUR',\n",
    " 'SVK',\n",
    " 'SYR',\n",
    "   'NCA',\n",
    " 'NGR',\n",
    " 'NIR',\n",
    " 'NOR',\n",
    " 'PAK',\n",
    " 'PAN',\n",
    " 'PAR',\n",
    " 'PER',\n",
    " 'PUR',\n",
    " 'ROM',\n",
    " 'RUS',\n",
    "    'LBR',\n",
    " 'LIB',\n",
    " 'LIE',\n",
    " 'LIT',\n",
    " 'LTU',\n",
    " 'MAC',\n",
    " 'MAR',\n",
    " 'MAS',\n",
    " 'MDA',\n",
    " 'MDV',\n",
    " 'MEX',\n",
    " 'MGL',\n",
    " 'MKD',\n",
    " 'MLT',\n",
    " 'MNP',\n",
    " 'MON',\n",
    " 'MOR',\n",
    " 'MTG',\n",
    " 'MYA',\n",
    "'INA',\n",
    " 'IND',\n",
    " 'JAM',\n",
    " 'KAZ',\n",
    " 'KGZ',\n",
    " 'KOR',\n",
    " 'KYR',\n",
    "'GEO',\n",
    " 'GHA',\n",
    " 'GRE',\n",
    " 'GUA',\n",
    " 'GUM',\n",
    " 'GUY',\n",
    " 'HAI',\n",
    "'DOM',\n",
    "'CAM',\n",
    "'CGO',\n",
    " 'CHI',\n",
    " 'CHL',\n",
    " 'CIV',\n",
    " 'CUB',\n",
    " 'ESA',\n",
    " 'ECU', \n",
    "'AMS',\n",
    "'ARU',\n",
    "'ALG',\n",
    "'AGO',\n",
    "'AHO',\n",
    "'AFG',\n",
    "'BLR',\n",
    " 'BOL',\n",
    " 'BOS',\n",
    " 'BRA',\n",
    " 'BUL',\n",
    " 'ALB','ARG','ARM','BAH'\n",
    " ]\n",
    "\n"
   ]
  },
  {
   "cell_type": "code",
   "execution_count": 317,
   "metadata": {},
   "outputs": [],
   "source": [
    "df['Poor_Country']=0\n",
    "\n",
    "def checkCountryAndChangePoorCountryVal(df , listOfPoorCounties):\n",
    "    # for each row  -> if name in list_of_champions ->isChamp= 1\n",
    "    # df = df.reset_index()\n",
    "    lst=sorted(listOfPoorCounties)\n",
    "    poor_countries_set=set(lst)\n",
    "    print(\"Started :\",len(poor_countries_set))\n",
    "\n",
    "    df_cpy=df.copy()\n",
    "    for index,row in df_cpy.iterrows():\n",
    "        \n",
    "        if row[\"Country\"] in poor_countries_set :\n",
    "            df_cpy.at[index,'Poor_Country'] = 1\n",
    "            poor_countries_set.remove(row[\"Country\"]) \n",
    "        elif row[\"Country\"].strip() in poor_countries_set:\n",
    "            df_cpy.at[index,'Poor_Country'] = 1\n",
    "            poor_countries_set.remove(row[\"Country\"].strip())\n",
    "    print(len(poor_countries_set))\n",
    "    print(poor_countries_set)\n",
    "\n",
    "    return df_cpy"
   ]
  },
  {
   "cell_type": "code",
   "execution_count": 318,
   "metadata": {},
   "outputs": [],
   "source": [
    "# countries=df['Country'].unique()\n",
    "# sorted(countries)\n",
    "# df['Champion'].unique()"
   ]
  },
  {
   "cell_type": "code",
   "execution_count": 322,
   "metadata": {},
   "outputs": [
    {
     "name": "stdout",
     "output_type": "stream",
     "text": [
      "Started : 93\n",
      "1\n",
      "{'ZIMSAF'}\n"
     ]
    }
   ],
   "source": [
    "df=checkCountryAndChangePoorCountryVal(df,poor_countries)\n"
   ]
  },
  {
   "cell_type": "markdown",
   "metadata": {},
   "source": [
    "<h3 style=\"color:yellow;\">Beutiful , Now we're going to have a visualisation that will actually tell us something</h3>"
   ]
  },
  {
   "cell_type": "code",
   "execution_count": 327,
   "metadata": {},
   "outputs": [
    {
     "data": {
      "text/plain": [
       "<AxesSubplot:xlabel='Wins', ylabel='Loses'>"
      ]
     },
     "execution_count": 327,
     "metadata": {},
     "output_type": "execute_result"
    },
    {
     "data": {
      "image/png": "[encoded data removed]",
      "text/plain": [
       "<Figure size 432x288 with 1 Axes>"
      ]
     },
     "metadata": {
      "needs_background": "light"
     },
     "output_type": "display_data"
    }
   ],
   "source": [
    "sns.scatterplot(x='Wins' , y='Loses' , s=100 , hue='Champion',style='Poor_Country',size='Wins_By_KO',sizes=(10,200),data=df)\n"
   ]
  },
  {
   "cell_type": "code",
   "execution_count": 328,
   "metadata": {},
   "outputs": [
    {
     "data": {
      "text/plain": [
       "<AxesSubplot:xlabel='Wins', ylabel='Loses'>"
      ]
     },
     "execution_count": 328,
     "metadata": {},
     "output_type": "execute_result"
    },
    {
     "data": {
      "image/png": "[encoded data removed]",
      "text/plain": [
       "<Figure size 432x288 with 1 Axes>"
      ]
     },
     "metadata": {
      "needs_background": "light"
     },
     "output_type": "display_data"
    }
   ],
   "source": [
    "sns.scatterplot(x='Wins' , y='Loses' , s=100 , hue='Champion',style='Poor_Country',size='Wins_By_Submission',sizes=(10,200),data=df)\n"
   ]
  },
  {
   "cell_type": "markdown",
   "metadata": {},
   "source": [
    "<h3>From this charts we can understand that champs ar not from poor countries ' we can also see that the champions are usually  have 10 or more wins , The wins are mosly from the same type. It is also very clear that the highest wins scores are by submissions </h3>\n"
   ]
  },
  {
   "cell_type": "markdown",
   "metadata": {},
   "source": []
  },
  {
   "cell_type": "markdown",
   "metadata": {},
   "source": [
    "<h1 style=\"color:#EF6079FF;\"> Logistic Regression Model </h1>\n",
    "\n",
    "<h3>I chose this model because we would lime to predict either athlete will be a champion or not , since the answer for this question will be binary, this case will perfectly fit in Logistic Regression since this model is optimal for YES or NO predictions.</h3>"
   ]
  },
  {
   "cell_type": "markdown",
   "metadata": {},
   "source": []
  },
  {
   "cell_type": "code",
   "execution_count": null,
   "metadata": {},
   "outputs": [],
   "source": []
  }
 ],
 "metadata": {
  "interpreter": {
   "hash": "31f2aee4e71d21fbe5cf8b01ff0e069b9275f58929596ceb00d14d90e3e16cd6"
  },
  "kernelspec": {
   "display_name": "Python 3.8.9 64-bit",
   "language": "python",
   "name": "python3"
  },
  "language_info": {
   "codemirror_mode": {
    "name": "ipython",
    "version": 3
   },
   "file_extension": ".py",
   "mimetype": "text/x-python",
   "name": "python",
   "nbconvert_exporter": "python",
   "pygments_lexer": "ipython3",
   "version": "3.10.1"
  },
  "orig_nbformat": 4
 },
 "nbformat": 4,
 "nbformat_minor": 2
}
